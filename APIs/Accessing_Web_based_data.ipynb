{
  "nbformat": 4,
  "nbformat_minor": 0,
  "metadata": {
    "colab": {
      "provenance": [],
      "authorship_tag": "ABX9TyPDpSWutM9erN82j8dMaPig",
      "include_colab_link": true
    },
    "kernelspec": {
      "name": "python3",
      "display_name": "Python 3"
    },
    "language_info": {
      "name": "python"
    }
  },
  "cells": [
    {
      "cell_type": "markdown",
      "metadata": {
        "id": "view-in-github",
        "colab_type": "text"
      },
      "source": [
        "<a href=\"https://colab.research.google.com/github/Ramprashanth17/Everything-Python/blob/main/APIs/Accessing_Web_based_data.ipynb\" target=\"_parent\"><img src=\"https://colab.research.google.com/assets/colab-badge.svg\" alt=\"Open In Colab\"/></a>"
      ]
    },
    {
      "cell_type": "code",
      "execution_count": null,
      "metadata": {
        "id": "004PkV7jAM3k"
      },
      "outputs": [],
      "source": []
    },
    {
      "cell_type": "markdown",
      "source": [
        "**These code examples are from the O'Reilly book \"Data Wrangling with Python\" by Susan E. McGregor, all credits to them**\n",
        "\n"
      ],
      "metadata": {
        "id": "NWjflLaOCS5a"
      }
    },
    {
      "cell_type": "code",
      "source": [
        "import requests\n",
        "from google.colab import userdata\n",
        "# Import the API key\n",
        "my_secret_key = userdata.get('FRED_Cred')\n",
        "\n",
        "# Specifying the end point that we want to use\n",
        "FRED_endpoint = \"https://api.stlouisfed.org/fred/series/observations?\"\n",
        "\n",
        "#Specifying the query parameters and their values\n",
        "FRED_param = \"series_id=U6RATE&file_type=json\"\n",
        "\n",
        "complete_data_URL = FRED_endpoint + FRED_param + \"&api_key=\" + my_secret_key\n",
        "\n",
        "FRED_output_file = open(\"FRED_API_data.json\", \"w\") # writing the data to our output file\n",
        "\n",
        "FRED_data = requests.get(complete_data_URL) # Store the data of our URL by getting it\n",
        "\n",
        "FRED_output_file.write(FRED_data.text) # Write the text data that we got to our output file\n",
        "\n",
        "FRED_output_file.close() # Close the output file\n",
        "\n"
      ],
      "metadata": {
        "id": "cNElUa2VKl0q"
      },
      "execution_count": 1,
      "outputs": []
    },
    {
      "cell_type": "code",
      "source": [],
      "metadata": {
        "id": "Cn4rXPUbO6XI"
      },
      "execution_count": null,
      "outputs": []
    }
  ]
}